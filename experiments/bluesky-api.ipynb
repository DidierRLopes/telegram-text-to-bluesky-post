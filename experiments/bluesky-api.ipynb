{
 "cells": [
  {
   "cell_type": "code",
   "execution_count": 5,
   "metadata": {},
   "outputs": [
    {
     "name": "stdout",
     "output_type": "stream",
     "text": [
      "Welcome, Didier Lopes\n"
     ]
    },
    {
     "data": {
      "text/plain": [
       "CreateRecordResponse(uri='at://did:plc:ipcg5rwcjcs6wxioyn3xohzo/app.bsky.feed.like/3leahsnnwnf2a', cid='bafyreigapb36dgafvvhr22i2cryt6tg3dleatv6whpjdgrtf32e2gaeufu')"
      ]
     },
     "execution_count": 5,
     "metadata": {},
     "output_type": "execute_result"
    }
   ],
   "source": [
    "from atproto import Client, client_utils\n",
    "import os\n",
    "from dotenv import load_dotenv\n",
    "\n",
    "load_dotenv()\n",
    "\n",
    "client = Client()\n",
    "profile = client.login(\n",
    "    os.getenv('BLUESKY_HANDLE'),\n",
    "    os.getenv('BLUESKY_PASSWORD')\n",
    ")\n",
    "print('Welcome,', profile.display_name)\n",
    "\n",
    "text = client_utils.TextBuilder().text('Merry Christmas!')\n",
    "post = client.send_post(text)\n",
    "client.like(post.uri, post.cid)"
   ]
  },
  {
   "cell_type": "code",
   "execution_count": null,
   "metadata": {},
   "outputs": [],
   "source": []
  }
 ],
 "metadata": {
  "kernelspec": {
   "display_name": "michael2",
   "language": "python",
   "name": "python3"
  },
  "language_info": {
   "codemirror_mode": {
    "name": "ipython",
    "version": 3
   },
   "file_extension": ".py",
   "mimetype": "text/x-python",
   "name": "python",
   "nbconvert_exporter": "python",
   "pygments_lexer": "ipython3",
   "version": "3.11.11"
  }
 },
 "nbformat": 4,
 "nbformat_minor": 2
}
